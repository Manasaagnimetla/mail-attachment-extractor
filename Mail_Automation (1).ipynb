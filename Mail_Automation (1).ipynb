{
 "cells": [
  {
   "cell_type": "code",
   "execution_count": 1,
   "id": "60800fc9-3820-4464-a06b-fa37c4c08ef3",
   "metadata": {},
   "outputs": [],
   "source": [
    "import os\n",
    "import win32com.client\n",
    "import datetime\n",
    "from pathlib import Path\n",
    "import warnings\n",
    "warnings.simplefilter(\"ignore\")"
   ]
  },
  {
   "cell_type": "code",
   "execution_count": 2,
   "id": "1b7c1208-2bc2-48b9-9ddb-4d8be435a211",
   "metadata": {},
   "outputs": [],
   "source": [
    "outlook=win32com.client.Dispatch('outlook.application').GetNameSpace(\"MAPI\")\n",
    "inbox=outlook.Folders('abc@gmail.com').Folders('Inbox')\n",
    "messages=inbox.Items"
   ]
  },
  {
   "cell_type": "code",
   "execution_count": 3,
   "id": "9c5c84bb-f959-47ea-9690-825a5519989b",
   "metadata": {},
   "outputs": [
    {
     "name": "stdout",
     "output_type": "stream",
     "text": [
      "test mail\n",
      "test mail\n",
      "test mail\n"
     ]
    }
   ],
   "source": [
    "for msg in messages:\n",
    "    if'test mail' in str(msg.subject):\n",
    "        print(msg.subject)"
   ]
  },
  {
   "cell_type": "code",
   "execution_count": 4,
   "id": "c22d2da4-05b5-4b7c-839e-a4b15b4372a9",
   "metadata": {},
   "outputs": [
    {
     "name": "stdout",
     "output_type": "stream",
     "text": [
      "no-reply@kekamail.com\n",
      "noreply@email.teams.microsoft.com\n",
      "no-reply@kekamail.com\n"
     ]
    },
    {
     "ename": "AttributeError",
     "evalue": "GetExchangeUser.primarySntpAddress",
     "output_type": "error",
     "traceback": [
      "\u001b[1;31m---------------------------------------------------------------------------\u001b[0m",
      "\u001b[1;31mAttributeError\u001b[0m                            Traceback (most recent call last)",
      "Cell \u001b[1;32mIn[4], line 3\u001b[0m\n\u001b[0;32m      1\u001b[0m \u001b[38;5;28;01mfor\u001b[39;00m msg \u001b[38;5;129;01min\u001b[39;00m messages:\n\u001b[0;32m      2\u001b[0m     \u001b[38;5;28;01mif\u001b[39;00m msg\u001b[38;5;241m.\u001b[39mSenderEmailType\u001b[38;5;241m==\u001b[39m\u001b[38;5;124m'\u001b[39m\u001b[38;5;124mEX\u001b[39m\u001b[38;5;124m'\u001b[39m:\n\u001b[1;32m----> 3\u001b[0m         \u001b[38;5;28mprint\u001b[39m(msg\u001b[38;5;241m.\u001b[39mSender\u001b[38;5;241m.\u001b[39mGetExchangeUser()\u001b[38;5;241m.\u001b[39mprimarySntpAddress)\n\u001b[0;32m      4\u001b[0m     \u001b[38;5;28;01melse\u001b[39;00m:\n\u001b[0;32m      5\u001b[0m         \u001b[38;5;28mprint\u001b[39m(msg\u001b[38;5;241m.\u001b[39msenderEmailAddress)\n",
      "File \u001b[1;32m~\\anaconda3\\Lib\\site-packages\\win32com\\client\\dynamic.py:639\u001b[0m, in \u001b[0;36mCDispatch.__getattr__\u001b[1;34m(self, attr)\u001b[0m\n\u001b[0;32m    636\u001b[0m     \u001b[38;5;28;01mreturn\u001b[39;00m \u001b[38;5;28mself\u001b[39m\u001b[38;5;241m.\u001b[39m_get_good_object_(ret)\n\u001b[0;32m    638\u001b[0m \u001b[38;5;66;03m# no where else to look.\u001b[39;00m\n\u001b[1;32m--> 639\u001b[0m \u001b[38;5;28;01mraise\u001b[39;00m \u001b[38;5;167;01mAttributeError\u001b[39;00m(\u001b[38;5;124m\"\u001b[39m\u001b[38;5;132;01m%s\u001b[39;00m\u001b[38;5;124m.\u001b[39m\u001b[38;5;132;01m%s\u001b[39;00m\u001b[38;5;124m\"\u001b[39m \u001b[38;5;241m%\u001b[39m (\u001b[38;5;28mself\u001b[39m\u001b[38;5;241m.\u001b[39m_username_, attr))\n",
      "\u001b[1;31mAttributeError\u001b[0m: GetExchangeUser.primarySntpAddress"
     ]
    }
   ],
   "source": [
    "for msg in messages:\n",
    "    if msg.SenderEmailType=='EX':\n",
    "        print(msg.Sender.GetExchangeUser().primarySntpAddress)\n",
    "    else:\n",
    "        print(msg.senderEmailAddress)"
   ]
  },
  {
   "cell_type": "code",
   "execution_count": 5,
   "id": "6c8cbe78-47c5-477f-b784-1c0e7521641e",
   "metadata": {},
   "outputs": [
    {
     "name": "stdout",
     "output_type": "stream",
     "text": [
      "test mail 2024-06-12 20:38:50.132000+00:00\n",
      "test mail 2024-06-18 18:36:34.810000+00:00\n"
     ]
    }
   ],
   "source": [
    "for msg in messages:\n",
    "    if'test mail' in msg.Subject and msg.SenderEmailAddress=='xyz@gmail.com':\n",
    "        print(msg.subject+\" \"+str(msg.ReceivedTime))"
   ]
  },
  {
   "cell_type": "code",
   "execution_count": 6,
   "id": "f5818aed-1a03-486b-9e82-13d8555453b1",
   "metadata": {},
   "outputs": [],
   "source": [
    "if not os.path.exists(r\"C:\\Users\\OneDrive\\Desktop\\archive1\"):\n",
    "    os.makedirs(\"your_folder\")    "
   ]
  },
  {
   "cell_type": "code",
   "execution_count": 7,
   "id": "9d64e795-f5d7-4668-a3f4-384a04c609cf",
   "metadata": {},
   "outputs": [],
   "source": [
    "for atch in msg.Attachments:\n",
    "    atch.SaveAsFile(os.getcwd() + \"\\\\your_folder\\\\\" + atch.FileName)"
   ]
  },
  {
   "cell_type": "code",
   "execution_count": null,
   "id": "52aec47e-b500-4cf5-8d05-f4093224af12",
   "metadata": {},
   "outputs": [],
   "source": []
  }
 ],
 "metadata": {
  "kernelspec": {
   "display_name": "Python 3 (ipykernel)",
   "language": "python",
   "name": "python3"
  },
  "language_info": {
   "codemirror_mode": {
    "name": "ipython",
    "version": 3
   },
   "file_extension": ".py",
   "mimetype": "text/x-python",
   "name": "python",
   "nbconvert_exporter": "python",
   "pygments_lexer": "ipython3",
   "version": "3.11.7"
  }
 },
 "nbformat": 4,
 "nbformat_minor": 5
}
